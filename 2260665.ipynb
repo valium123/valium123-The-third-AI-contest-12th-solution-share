{
 "cells": [
  {
   "cell_type": "code",
   "execution_count": null,
   "metadata": {
    "collapsed": false
   },
   "outputs": [],
   "source": [
    "# 查看当前挂载的数据集目录, 该目录下的变更重启环境后会自动还原\n",
    "# View dataset directory. \n",
    "# This directory will be recovered automatically after resetting environment. \n",
    "!ls /home/aistudio/data"
   ]
  },
  {
   "cell_type": "code",
   "execution_count": null,
   "metadata": {
    "collapsed": false
   },
   "outputs": [],
   "source": [
    "# 查看工作区文件, 该目录下的变更将会持久保存. 请及时清理不必要的文件, 避免加载过慢.\n",
    "# View personal work directory. \n",
    "# All changes under this directory will be kept even after reset. \n",
    "# Please clean unnecessary files in time to speed up environment loading. \n",
    "!ls /home/aistudio/work"
   ]
  },
  {
   "cell_type": "code",
   "execution_count": null,
   "metadata": {
    "collapsed": false
   },
   "outputs": [],
   "source": [
    "# 如果需要进行持久化安装, 需要使用持久化路径, 如下方代码示例:\n",
    "# If a persistence installation is required, \n",
    "# you need to use the persistence path as the following: \n",
    "!mkdir /home/aistudio/external-libraries\n",
    "!pip install beautifulsoup4 -t /home/aistudio/external-libraries"
   ]
  },
  {
   "cell_type": "code",
   "execution_count": null,
   "metadata": {
    "collapsed": false
   },
   "outputs": [],
   "source": [
    "# 同时添加如下代码, 这样每次环境(kernel)启动的时候只要运行下方代码即可: \n",
    "# Also add the following code, \n",
    "# so that every time the environment (kernel) starts, \n",
    "# just run the following code: \n",
    "import sys \n",
    "sys.path.append('/home/aistudio/external-libraries')"
   ]
  },
  {
   "cell_type": "markdown",
   "metadata": {
    "collapsed": false
   },
   "source": [
    "# 主要代码及其说明\n",
    "## 通过paddleseg实现\n",
    "步骤：\n",
    "\n",
    "1.对于数据进行预处理，形成可被paddleseg读取的label图片\n",
    "\n",
    "2.划分数据集，根据图片目录生成txt文件\n",
    "\n",
    "3.配置相关文件 使用setr与dnlnet模型 分别对数据进行训练\n",
    "\n",
    "4.融合模型进行推理\n",
    "\n",
    "5.压缩预测图片"
   ]
  },
  {
   "cell_type": "markdown",
   "metadata": {
    "collapsed": false
   },
   "source": [
    "### 数据准备及预处理部分"
   ]
  },
  {
   "cell_type": "code",
   "execution_count": 2,
   "metadata": {
    "collapsed": false
   },
   "outputs": [],
   "source": [
    "#解压数据集\r\n",
    "!unzip -qo data/data102901/train_50k_mask.zip -d data/\r\n",
    "!unzip -oq data/data102901/B榜测试数据集.zip -d data/\r\n",
    "!unzip -oq data/data102901/train_image.zip -d data/\r\n",
    "!unzip -oq /home/aistudio/data/data102949/model.zip\r\n",
    "!unzip -oq /home/aistudio/PaddleSeg.zip"
   ]
  },
  {
   "cell_type": "code",
   "execution_count": 3,
   "metadata": {
    "collapsed": false
   },
   "outputs": [],
   "source": [
    "import sys\r\n",
    "import paddle\r\n",
    "import numpy as np\r\n",
    "import os\r\n",
    "import matplotlib.pyplot as plt\r\n",
    "from PIL import Image\r\n",
    "from tqdm import tqdm\r\n",
    "import random"
   ]
  },
  {
   "cell_type": "code",
   "execution_count": 4,
   "metadata": {
    "collapsed": false
   },
   "outputs": [],
   "source": [
    "#对label图片进行做图像二值化处理 \r\n",
    "#PaddleSeg采用单通道的标注图片，每一种像素值代表一种类别，像素标注类别需要从0开始递增\r\n",
    "import cv2\r\n",
    "import matplotlib.pyplot as plt\r\n",
    "for filename in os.listdir(\"data/train_50k_mask\"):\r\n",
    "    print(filename)\r\n",
    "    k=os.path.join(\"data/train_50k_mask\",filename)\r\n",
    "    for filenamel in os.listdir(k):\r\n",
    "        kt=os.path.join(k,filenamel)\r\n",
    "        img = cv2.imread(kt)\r\n",
    "        img_gray = cv2.cvtColor(img, cv2.COLOR_BGR2GRAY)\r\n",
    "        difference = (img_gray.max() - img_gray.min()) // 2\r\n",
    "        _, img_binary = cv2.threshold(img_gray, difference, 1, cv2.THRESH_BINARY)\r\n",
    "        cv2.imwrite(kt, img_binary)\r\n",
    "plt.imshow(img_binary)\r\n",
    "plt.show()"
   ]
  },
  {
   "cell_type": "code",
   "execution_count": null,
   "metadata": {
    "collapsed": false
   },
   "outputs": [],
   "source": [
    "import sys\r\n",
    "import paddle\r\n",
    "import numpy as np\r\n",
    "import os\r\n",
    "import matplotlib.pyplot as plt\r\n",
    "from PIL import Image\r\n",
    "import random\r\n",
    "#读入数据目录，拼接images与labels\r\n",
    "datas_list=[]\r\n",
    "for filename in os.listdir(\"data/train_image\"):\r\n",
    "    k=os.path.join(\"data/train_image\",filename)\r\n",
    "    kt=os.path.join(\"data/train_50k_mask\",filename)\r\n",
    "    for filenamel in os.listdir(k):\r\n",
    "        datas_list.append([os.path.join(k,filenamel),os.path.join(kt,filenamel)])\r\n",
    "#打乱数据\r\n",
    "random.shuffle(datas_list)\r\n",
    "#划分数据集\r\n",
    "train_list= datas_list[ : int(len(datas_list)*0.9)]\r\n",
    "test_list = datas_list[int(len(datas_list)*0.9):]\r\n",
    "print(len(train_list))\r\n",
    "print(len(test_list))\r\n",
    "#生成txt文件\r\n",
    "with open('train.txt',\"a+\") as train_file:\r\n",
    "    for k in range(len(train_list)):\r\n",
    "        train_file.write(\"%s %s\\n\"%(train_list[k][0],train_list[k][1]))\r\n",
    "with open('val.txt',\"a+\") as train_file:\r\n",
    "    for k in range(len(test_list)):\r\n",
    "        train_file.write(\"%s %s\\n\"%(test_list[k][0],test_list[k][1]))\r\n",
    "import glob\r\n",
    "path = glob.glob('data/test_image/*')\r\n",
    "f = open('test.txt', 'w')\r\n",
    "for i in path:\r\n",
    "    f.write(i+'\\n')\r\n",
    "f.close()\r\n",
    "%cd ~/"
   ]
  },
  {
   "cell_type": "markdown",
   "metadata": {
    "collapsed": false
   },
   "source": [
    "### 训练部分"
   ]
  },
  {
   "cell_type": "markdown",
   "metadata": {
    "collapsed": false
   },
   "source": [
    "#### 数据增强\n",
    "使用了paddleseg内置的RandomHorizontalFlip、RandomVerticalFlip、RandomDistort、Resize等方式对数据进行处理"
   ]
  },
  {
   "cell_type": "markdown",
   "metadata": {
    "collapsed": false
   },
   "source": [
    "#### 使用setr模型 以下为setr模型的配置文件\n",
    "```\n",
    "batch_size: 32\n",
    "iters: 40000\n",
    "\n",
    "train_dataset:\n",
    "  type: Dataset\n",
    "  dataset_root: /home/aistudio\n",
    "  train_path: /home/aistudio/train.txt\n",
    "  num_classes: 2\n",
    "  transforms:\n",
    "    - type: RandomHorizontalFlip\n",
    "    - type: RandomVerticalFlip\n",
    "    - type: RandomDistort\n",
    "      brightness_range: 0.4\n",
    "      contrast_range: 0.4\n",
    "      saturation_range: 0.4\n",
    "    - type: Resize\n",
    "      target_size: [256, 256]\n",
    "    - type: Normalize\n",
    "  mode: train\n",
    "\n",
    "val_dataset:\n",
    "  type: Dataset\n",
    "  dataset_root: /home/aistudio\n",
    "  val_path: /home/aistudio/val.txt\n",
    "  num_classes: 2\n",
    "  transforms:\n",
    "    - type: Resize\n",
    "      target_size: [256, 256]\n",
    "    - type: Normalize\n",
    "  mode: val\n",
    "\n",
    "\n",
    "model:\n",
    "  type: SegmentationTransformer\n",
    "  backbone:\n",
    "    type: ViT_large_patch16_384\n",
    "    pretrained: https://bj.bcebos.com/paddleseg/dygraph/vit_large_patch16_384.tar.gz\n",
    "  num_classes: 2\n",
    "  backbone_indices: [9, 14, 19, 23]\n",
    "  head: pup\n",
    "  align_corners: True\n",
    "\n",
    "optimizer:\n",
    "  type: sgd\n",
    "  momentum: 0.9\n",
    "  weight_decay: 4.0e-5\n",
    "\n",
    "lr_scheduler:\n",
    "  type: PolynomialDecay\n",
    "  learning_rate: 0.01\n",
    "  end_lr: 1.0e-4\n",
    "  power: 0.9\n",
    "    \n",
    "\n",
    "\n",
    "\n",
    "\n",
    "loss:\n",
    "  types:\n",
    "    - type: CrossEntropyLoss\n",
    "    - type: CrossEntropyLoss\n",
    "    - type: CrossEntropyLoss\n",
    "    - type: CrossEntropyLoss\n",
    "    - type: CrossEntropyLoss\n",
    "  coef: [1, 0.4, 0.4, 0.4, 0.4]\n",
    "```"
   ]
  },
  {
   "cell_type": "code",
   "execution_count": null,
   "metadata": {
    "collapsed": false
   },
   "outputs": [],
   "source": [
    "#开始训练\r\n",
    "!python PaddleSeg/train.py --config setr.yaml --do_eval --use_vdl --save_dir /home/aistudio/output_setr --save_interval 2000"
   ]
  },
  {
   "cell_type": "markdown",
   "metadata": {
    "collapsed": false
   },
   "source": [
    "#### 使用DNLNet模型 以下为DNLNet模型的配置文件\n",
    "```\n",
    "batch_size: 32\n",
    "iters: 40000\n",
    "\n",
    "train_dataset:\n",
    "  type: Dataset\n",
    "  dataset_root: /home/aistudio\n",
    "  train_path: /home/aistudio/train.txt\n",
    "  num_classes: 2\n",
    "  transforms:\n",
    "    - type: RandomHorizontalFlip\n",
    "    - type: RandomVerticalFlip\n",
    "    - type: RandomDistort\n",
    "      brightness_range: 0.4\n",
    "      contrast_range: 0.4\n",
    "      saturation_range: 0.4\n",
    "    - type: Resize\n",
    "      target_size: [256, 256]\n",
    "    - type: Normalize\n",
    "  mode: train\n",
    "\n",
    "val_dataset:\n",
    "  type: Dataset\n",
    "  dataset_root: /home/aistudio\n",
    "  val_path: /home/aistudio/val.txt\n",
    "  num_classes: 2\n",
    "  transforms:\n",
    "    - type: Resize\n",
    "      target_size: [256, 256]\n",
    "    - type: Normalize\n",
    "  mode: val\n",
    "\n",
    "\n",
    "model:\n",
    "  type: DNLNet\n",
    "  backbone:\n",
    "    type: ResNet50_vd\n",
    "    output_stride: 8\n",
    "    pretrained: https://bj.bcebos.com/paddleseg/dygraph/resnet50_vd_ssld_v2.tar.gz\n",
    "\n",
    "optimizer:\n",
    "  type: sgd\n",
    "  momentum: 0.9\n",
    "  weight_decay: 4.0e-5\n",
    "\n",
    "lr_scheduler:\n",
    "  type: PolynomialDecay\n",
    "  learning_rate: 0.01\n",
    "  end_lr: 0\n",
    "  power: 0.9\n",
    "    \n",
    "\n",
    "\n",
    "\n",
    "loss:\n",
    "  types:\n",
    "    - type: CrossEntropyLoss\n",
    "    - type: CrossEntropyLoss\n",
    "  coef: [1, 0.4]\n",
    "```"
   ]
  },
  {
   "cell_type": "code",
   "execution_count": 7,
   "metadata": {
    "collapsed": false
   },
   "outputs": [],
   "source": [
    "#开始训练\r\n",
    "!python PaddleSeg/train.py --config DNLNet.yaml --do_eval --use_vdl --save_dir /home/aistudio/output_DNLNet_1 --save_interval 2000"
   ]
  },
  {
   "cell_type": "markdown",
   "metadata": {
    "collapsed": false
   },
   "source": [
    "#### 两个模型的参数保存与相应的save_dir 目录下，此处由于项目大小限制压缩于model数据集内"
   ]
  },
  {
   "cell_type": "markdown",
   "metadata": {
    "collapsed": false
   },
   "source": [
    "### 模型融合\n",
    "#### 此处参考开源项目  [模型融合-进一步提升精度](https://aistudio.baidu.com/aistudio/projectdetail/1698818?channel=0&channelType=0&shared=1)"
   ]
  },
  {
   "cell_type": "code",
   "execution_count": 12,
   "metadata": {
    "collapsed": false
   },
   "outputs": [
    {
     "name": "stdout",
     "output_type": "stream",
     "text": [
      "2021-08-06 22:40:37 [INFO]\t\n",
      "---------------Config Information---------------\n",
      "batch_size: 32\n",
      "iters: 40000\n",
      "loss:\n",
      "  coef:\n",
      "  - 1\n",
      "  - 0.4\n",
      "  types:\n",
      "  - type: CrossEntropyLoss\n",
      "  - type: CrossEntropyLoss\n",
      "lr_scheduler:\n",
      "  end_lr: 0\n",
      "  learning_rate: 0.01\n",
      "  power: 0.9\n",
      "  type: PolynomialDecay\n",
      "model:\n",
      "  backbone:\n",
      "    output_stride: 8\n",
      "    pretrained: https://bj.bcebos.com/paddleseg/dygraph/resnet50_vd_ssld_v2.tar.gz\n",
      "    type: ResNet50_vd\n",
      "  type: DNLNet\n",
      "optimizer:\n",
      "  momentum: 0.9\n",
      "  type: sgd\n",
      "  weight_decay: 4.0e-05\n",
      "train_dataset:\n",
      "  dataset_root: /home/aistudio\n",
      "  mode: train\n",
      "  num_classes: 2\n",
      "  train_path: /home/aistudio/train.txt\n",
      "  transforms:\n",
      "  - type: RandomHorizontalFlip\n",
      "  - type: RandomVerticalFlip\n",
      "  - brightness_range: 0.4\n",
      "    contrast_range: 0.4\n",
      "    saturation_range: 0.4\n",
      "    type: RandomDistort\n",
      "  - target_size:\n",
      "    - 256\n",
      "    - 256\n",
      "    type: Resize\n",
      "  - type: Normalize\n",
      "  type: Dataset\n",
      "val_dataset:\n",
      "  dataset_root: /home/aistudio\n",
      "  mode: val\n",
      "  num_classes: 2\n",
      "  transforms:\n",
      "  - target_size:\n",
      "    - 256\n",
      "    - 256\n",
      "    type: Resize\n",
      "  - type: Normalize\n",
      "  type: Dataset\n",
      "  val_path: /home/aistudio/val.txt\n",
      "batch_size: 32\n",
      "iters: 40000\n",
      "loss:\n",
      "  coef:\n",
      "  - 1\n",
      "  - 0.4\n",
      "  - 0.4\n",
      "  - 0.4\n",
      "  - 0.4\n",
      "  types:\n",
      "  - type: CrossEntropyLoss\n",
      "  - type: CrossEntropyLoss\n",
      "  - type: CrossEntropyLoss\n",
      "  - type: CrossEntropyLoss\n",
      "  - type: CrossEntropyLoss\n",
      "lr_scheduler:\n",
      "  end_lr: 0.0001\n",
      "  learning_rate: 0.01\n",
      "  power: 0.9\n",
      "  type: PolynomialDecay\n",
      "model:\n",
      "  align_corners: true\n",
      "  backbone:\n",
      "    pretrained: https://bj.bcebos.com/paddleseg/dygraph/vit_large_patch16_384.tar.gz\n",
      "    type: ViT_large_patch16_384\n",
      "  backbone_indices:\n",
      "  - 9\n",
      "  - 14\n",
      "  - 19\n",
      "  - 23\n",
      "  head: pup\n",
      "  num_classes: 2\n",
      "  type: SegmentationTransformer\n",
      "optimizer:\n",
      "  momentum: 0.9\n",
      "  type: sgd\n",
      "  weight_decay: 4.0e-05\n",
      "train_dataset:\n",
      "  dataset_root: /home/aistudio\n",
      "  mode: train\n",
      "  num_classes: 2\n",
      "  train_path: /home/aistudio/train.txt\n",
      "  transforms:\n",
      "  - type: RandomHorizontalFlip\n",
      "  - type: RandomVerticalFlip\n",
      "  - brightness_range: 0.4\n",
      "    contrast_range: 0.4\n",
      "    saturation_range: 0.4\n",
      "    type: RandomDistort\n",
      "  - target_size:\n",
      "    - 256\n",
      "    - 256\n",
      "    type: Resize\n",
      "  - type: Normalize\n",
      "  type: Dataset\n",
      "val_dataset:\n",
      "  dataset_root: /home/aistudio\n",
      "  mode: val\n",
      "  num_classes: 2\n",
      "  transforms:\n",
      "  - target_size:\n",
      "    - 256\n",
      "    - 256\n",
      "    type: Resize\n",
      "  - type: Normalize\n",
      "  type: Dataset\n",
      "  val_path: /home/aistudio/val.txt\n",
      "------------------------------------------------\n",
      "W0806 22:40:37.789031  9381 device_context.cc:404] Please NOTE: device: 0, GPU Compute Capability: 7.0, Driver API Version: 10.1, Runtime API Version: 10.1\n",
      "W0806 22:40:37.789098  9381 device_context.cc:422] device: 0, cuDNN Version: 7.6.\n",
      "2021-08-06 22:40:42 [INFO]\tLoading pretrained model from https://bj.bcebos.com/paddleseg/dygraph/resnet50_vd_ssld_v2.tar.gz\n",
      "Connecting to https://bj.bcebos.com/paddleseg/dygraph/resnet50_vd_ssld_v2.tar.gz\n",
      "Downloading resnet50_vd_ssld_v2.tar.gz\n",
      "[==================================================] 100.00%\n",
      "Uncompress resnet50_vd_ssld_v2.tar.gz\n",
      "[==================================================] 100.00%\n",
      "2021-08-06 22:40:49 [INFO]\tThere are 275/275 variables loaded into ResNet_vd.\n",
      "2021-08-06 22:40:49 [INFO]\tLoading pretrained model from dnl.pdparams\n",
      "2021-08-06 22:40:50 [INFO]\tThere are 312/312 variables loaded into DNLNet.\n",
      "2021-08-06 22:40:50 [INFO]\tLoaded trained params of model successfully\n",
      "2021-08-06 22:40:51 [INFO]\tLoading pretrained model from https://bj.bcebos.com/paddleseg/dygraph/vit_large_patch16_384.tar.gz\n",
      "Connecting to https://bj.bcebos.com/paddleseg/dygraph/vit_large_patch16_384.tar.gz\n",
      "Downloading vit_large_patch16_384.tar.gz\n",
      "[==================================================] 100.00%\n",
      "Uncompress vit_large_patch16_384.tar.gz\n",
      "[==================================================] 100.00%\n",
      "2021-08-06 22:41:53 [INFO]\tThere are 294/294 variables loaded into VisionTransformer.\n",
      "2021-08-06 22:41:54 [INFO]\tLoading pretrained model from ster.pdparams\n",
      "2021-08-06 22:42:05 [INFO]\tThere are 362/362 variables loaded into SegmentationTransformer.\n",
      "2021-08-06 22:42:05 [INFO]\tLoaded trained params of model successfully\n",
      "2021-08-06 22:42:05 [INFO]\tStart evaluating (total_samples=5000, total_iters=5000)...\n",
      "/opt/conda/envs/python35-paddle120-env/lib/python3.7/site-packages/paddle/fluid/dygraph/math_op_patch.py:239: UserWarning: The dtype of left and right variables are not the same, left dtype is paddle.int32, but right dtype is paddle.bool, the right dtype will convert to paddle.int32\n",
      "  format(lhs_dtype, rhs_dtype, lhs_dtype))\n",
      "/opt/conda/envs/python35-paddle120-env/lib/python3.7/site-packages/paddle/fluid/dygraph/math_op_patch.py:239: UserWarning: The dtype of left and right variables are not the same, left dtype is paddle.int64, but right dtype is paddle.bool, the right dtype will convert to paddle.int64\n",
      "  format(lhs_dtype, rhs_dtype, lhs_dtype))\n",
      "5000/5000 [==============================] - 422s 84ms/step - batch_cost: 0.0842 - reader cost: 1.2055e-\n",
      "2021-08-06 22:49:07 [INFO]\t[EVAL] #Images=5000 mIoU=0.8752 Acc=0.9448 Kappa=0.8654 \n",
      "2021-08-06 22:49:07 [INFO]\t[EVAL] Class IoU: \n",
      "[0.9253 0.825 ]\n",
      "2021-08-06 22:49:07 [INFO]\t[EVAL] Class Acc: \n",
      "[0.9669 0.8911]\n"
     ]
    }
   ],
   "source": [
    "#开始验证\r\n",
    "!python PaddleSeg/val.py --config_1 DNLNet.yaml --model_path_1 dnl.pdparams --config_2 setr.yaml  --model_path_2 ster.pdparams"
   ]
  },
  {
   "cell_type": "code",
   "execution_count": null,
   "metadata": {
    "collapsed": false
   },
   "outputs": [],
   "source": [
    "#开始预测\r\n",
    "!python PaddleSeg/predict.py --config_1 DNLNet.yaml --model_path_1 dnl.pdparams --config_2 setr.yaml  --model_path_2 ster.pdparams --image_path data/test_image --save_dir output/result --aug_pred --flip_horizontal --flip_vertical"
   ]
  },
  {
   "cell_type": "code",
   "execution_count": 13,
   "metadata": {
    "collapsed": false
   },
   "outputs": [
    {
     "name": "stdout",
     "output_type": "stream",
     "text": [
      "/home/aistudio/PaddleSeg\n"
     ]
    }
   ],
   "source": [
    "%cd PaddleSeg\r\n",
    "!zip -r -oq /home/aistudio/PaddleSeg.zip ./"
   ]
  },
  {
   "cell_type": "code",
   "execution_count": null,
   "metadata": {
    "collapsed": false
   },
   "outputs": [],
   "source": [
    "#压缩预测文件便于提交\r\n",
    "%cd output/result/results\r\n",
    "!zip -r -oq /home/aistudio/preddouble.zip ./\r\n",
    "%cd /home/aistudio"
   ]
  },
  {
   "cell_type": "markdown",
   "metadata": {
    "collapsed": false
   },
   "source": [
    "请点击[此处](https://ai.baidu.com/docs#/AIStudio_Project_Notebook/a38e5576)查看本环境基本用法.  <br>\n",
    "Please click [here ](https://ai.baidu.com/docs#/AIStudio_Project_Notebook/a38e5576) for more detailed instructions. "
   ]
  }
 ],
 "metadata": {
  "kernelspec": {
   "display_name": "PaddlePaddle 2.1.0 (Python 3.5)",
   "language": "python",
   "name": "py35-paddle1.2.0"
  },
  "language_info": {
   "codemirror_mode": {
    "name": "ipython",
    "version": 3
   },
   "file_extension": ".py",
   "mimetype": "text/x-python",
   "name": "python",
   "nbconvert_exporter": "python",
   "pygments_lexer": "ipython3",
   "version": "3.7.4"
  }
 },
 "nbformat": 4,
 "nbformat_minor": 1
}
